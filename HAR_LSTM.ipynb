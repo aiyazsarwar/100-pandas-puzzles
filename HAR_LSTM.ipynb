{
  "nbformat": 4,
  "nbformat_minor": 0,
  "metadata": {
    "kernelspec": {
      "display_name": "Python 3",
      "language": "python",
      "name": "python3"
    },
    "language_info": {
      "codemirror_mode": {
        "name": "ipython",
        "version": 3
      },
      "file_extension": ".py",
      "mimetype": "text/x-python",
      "name": "python",
      "nbconvert_exporter": "python",
      "pygments_lexer": "ipython3",
      "version": "3.6.1"
    },
    "colab": {
      "name": "HAR_LSTM.ipynb",
      "provenance": [],
      "collapsed_sections": [],
      "include_colab_link": true
    }
  },
  "cells": [
    {
      "cell_type": "markdown",
      "metadata": {
        "id": "view-in-github",
        "colab_type": "text"
      },
      "source": [
        "<a href=\"https://colab.research.google.com/github/aiyazsarwar/100-pandas-puzzles/blob/master/HAR_LSTM.ipynb\" target=\"_parent\"><img src=\"https://colab.research.google.com/assets/colab-badge.svg\" alt=\"Open In Colab\"/></a>"
      ]
    },
    {
      "cell_type": "code",
      "metadata": {
        "id": "ZzfYnje-bkrG",
        "colab_type": "code",
        "colab": {}
      },
      "source": [
        "# Importing Libraries"
      ],
      "execution_count": 0,
      "outputs": []
    },
    {
      "cell_type": "code",
      "metadata": {
        "id": "Yo9SiYe8bkrP",
        "colab_type": "code",
        "colab": {}
      },
      "source": [
        "import pandas as pd\n",
        "import numpy as np\n",
        "import matplotlib.pyplot as plt\n",
        "import seaborn as sns"
      ],
      "execution_count": 0,
      "outputs": []
    },
    {
      "cell_type": "code",
      "metadata": {
        "id": "BSKNIDEGbkrU",
        "colab_type": "code",
        "colab": {}
      },
      "source": [
        "# Activities are the class labels\n",
        "# It is a 6 class classification\n",
        "ACTIVITIES = {\n",
        "    0: 'WALKING',\n",
        "    1: 'WALKING_UPSTAIRS',\n",
        "    2: 'WALKING_DOWNSTAIRS',\n",
        "    3: 'SITTING',\n",
        "    4: 'STANDING',\n",
        "    5: 'LAYING',\n",
        "}\n",
        "\n",
        "#https://stackoverflow.com/questions/39033880/plot-confusion-matrix-sklearn-with-multiple-labels\n",
        "\n",
        "# Utility function to print the confusion matrix\n",
        "def plot_confusion_matrix(Y_true, Y_pred):\n",
        "    Y_true = pd.Series([ACTIVITIES[y] for y in np.argmax(Y_true, axis=1)])\n",
        "    Y_pred = pd.Series([ACTIVITIES[y] for y in np.argmax(Y_pred, axis=1)])\n",
        "    confusionMatx = pd.crosstab(Y_true, Y_pred, rownames=['True'], colnames=['Pred'])\n",
        "    print(confusionMatx)\n",
        "\n",
        "    labels = [\"WALKING\", \"WALKING_UPSTAIRS\", \"WALKING_DOWNSTAIRS\", \"SITTING\", \"STANDING\", \"LYING\"]\n",
        "    \n",
        "    plt.figure(figsize=(16,7))\n",
        "    sns.heatmap(confusionMatx, cmap = \"Blues\", annot = True, fmt = \".1f\", xticklabels=labels, yticklabels=labels)\n",
        "    plt.title(\"Confusion Matrix\", fontsize = 30)\n",
        "    plt.xlabel('Predicted Class', fontsize = 20)\n",
        "    plt.ylabel('Original Class', fontsize = 20)\n",
        "    plt.tick_params(labelsize = 15)\n",
        "    plt.xticks(rotation = 90)\n",
        "    plt.show()\n",
        "\n",
        "    return"
      ],
      "execution_count": 0,
      "outputs": []
    },
    {
      "cell_type": "code",
      "metadata": {
        "id": "GYbZRUoQf4rj",
        "colab_type": "code",
        "outputId": "95f6e7cf-a808-4cdb-e351-d61b47210b77",
        "colab": {
          "base_uri": "https://localhost:8080/",
          "height": 122
        }
      },
      "source": [
        "from google.colab import drive\n",
        "drive.mount('/content/gdrive')"
      ],
      "execution_count": 0,
      "outputs": [
        {
          "output_type": "stream",
          "text": [
            "Go to this URL in a browser: https://accounts.google.com/o/oauth2/auth?client_id=947318989803-6bn6qk8qdgf4n4g3pfee6491hc0brc4i.apps.googleusercontent.com&redirect_uri=urn%3aietf%3awg%3aoauth%3a2.0%3aoob&response_type=code&scope=email%20https%3a%2f%2fwww.googleapis.com%2fauth%2fdocs.test%20https%3a%2f%2fwww.googleapis.com%2fauth%2fdrive%20https%3a%2f%2fwww.googleapis.com%2fauth%2fdrive.photos.readonly%20https%3a%2f%2fwww.googleapis.com%2fauth%2fpeopleapi.readonly\n",
            "\n",
            "Enter your authorization code:\n",
            "··········\n",
            "Mounted at /content/gdrive\n"
          ],
          "name": "stdout"
        }
      ]
    },
    {
      "cell_type": "code",
      "metadata": {
        "id": "a0qSPEtyiT97",
        "colab_type": "code",
        "outputId": "c421c6e0-75e4-4929-8dd0-e8b7ac4f6690",
        "colab": {
          "base_uri": "https://localhost:8080/",
          "height": 51
        }
      },
      "source": [
        "!ls \"/content/gdrive/My Drive/Colab Notebooks/UCI_HAR_Dataset\""
      ],
      "execution_count": 0,
      "outputs": [
        {
          "output_type": "stream",
          "text": [
            "activity_labels.txt  _DS_Store\t\tfeatures.txt  test\n",
            "csv_files\t     features_info.txt\tREADME.txt    train\n"
          ],
          "name": "stdout"
        }
      ]
    },
    {
      "cell_type": "markdown",
      "metadata": {
        "id": "KSbL5wwJbkrY",
        "colab_type": "text"
      },
      "source": [
        "### Data"
      ]
    },
    {
      "cell_type": "code",
      "metadata": {
        "id": "CpwbH57obkrZ",
        "colab_type": "code",
        "colab": {}
      },
      "source": [
        "# Data directory\n",
        "DATADIR = 'UCI_HAR_Dataset'"
      ],
      "execution_count": 0,
      "outputs": []
    },
    {
      "cell_type": "code",
      "metadata": {
        "id": "SN080DVUbkre",
        "colab_type": "code",
        "colab": {}
      },
      "source": [
        "# Raw data signals\n",
        "# Signals are from Accelerometer and Gyroscope\n",
        "# The signals are in x,y,z directions\n",
        "# Sensor signals are filtered to have only body acceleration\n",
        "# excluding the acceleration due to gravity\n",
        "# Triaxial acceleration from the accelerometer is total acceleration\n",
        "SIGNALS = [\n",
        "    \"body_acc_x\",\n",
        "    \"body_acc_y\",\n",
        "    \"body_acc_z\",\n",
        "    \"body_gyro_x\",\n",
        "    \"body_gyro_y\",\n",
        "    \"body_gyro_z\",\n",
        "    \"total_acc_x\",\n",
        "    \"total_acc_y\",\n",
        "    \"total_acc_z\"\n",
        "]"
      ],
      "execution_count": 0,
      "outputs": []
    },
    {
      "cell_type": "code",
      "metadata": {
        "id": "br_2tgptbkri",
        "colab_type": "code",
        "colab": {}
      },
      "source": [
        "# Utility function to read the data from csv file\n",
        "def _read_csv(filename):\n",
        "    return pd.read_csv(filename, delim_whitespace=True, header=None)\n",
        "\n",
        "# Utility function to load the load\n",
        "def load_signals(subset):\n",
        "    signals_data = []\n",
        "\n",
        "    for signal in SIGNALS:\n",
        "        filename = f'/content/gdrive/My Drive/Colab Notebooks/UCI_HAR_Dataset/{subset}/Inertial Signals/{signal}_{subset}.txt'\n",
        "        signals_data.append(\n",
        "            _read_csv(filename).as_matrix()\n",
        "        ) \n",
        "\n",
        "    # Transpose is used to change the dimensionality of the output,\n",
        "    # aggregating the signals by combination of sample/timestep.\n",
        "    # Resultant shape is (7352 train/2947 test samples, 128 timesteps, 9 signals)\n",
        "    return np.transpose(signals_data, (1, 2, 0))"
      ],
      "execution_count": 0,
      "outputs": []
    },
    {
      "cell_type": "code",
      "metadata": {
        "id": "9xVxFywSbkrn",
        "colab_type": "code",
        "colab": {}
      },
      "source": [
        "\n",
        "def load_y(subset):\n",
        "    \"\"\"\n",
        "    The objective that we are trying to predict is a integer, from 1 to 6,\n",
        "    that represents a human activity. We return a binary representation of \n",
        "    every sample objective as a 6 bits vector using One Hot Encoding\n",
        "    (https://pandas.pydata.org/pandas-docs/stable/generated/pandas.get_dummies.html)\n",
        "    \"\"\"\n",
        "    filename = f'/content/gdrive/My Drive/Colab Notebooks/UCI_HAR_Dataset/{subset}/y_{subset}.txt'\n",
        "    y = _read_csv(filename)[0]\n",
        "\n",
        "    return pd.get_dummies(y).as_matrix()"
      ],
      "execution_count": 0,
      "outputs": []
    },
    {
      "cell_type": "code",
      "metadata": {
        "id": "Ddn4qOfebkrr",
        "colab_type": "code",
        "colab": {}
      },
      "source": [
        "def load_data():\n",
        "    \"\"\"\n",
        "    Obtain the dataset from multiple files.\n",
        "    Returns: X_train, X_test, y_train, y_test\n",
        "    \"\"\"\n",
        "    X_train, X_test = load_signals('train'), load_signals('test')\n",
        "    y_train, y_test = load_y('train'), load_y('test')\n",
        "\n",
        "    return X_train, X_test, y_train, y_test"
      ],
      "execution_count": 0,
      "outputs": []
    },
    {
      "cell_type": "code",
      "metadata": {
        "id": "RbORy2Gybkrv",
        "colab_type": "code",
        "outputId": "dcdd9e29-a7dc-4ff1-a67c-fcf025386842",
        "colab": {
          "base_uri": "https://localhost:8080/",
          "height": 63
        }
      },
      "source": [
        "# Importing tensorflow\n",
        "np.random.seed(42)\n",
        "import tensorflow as tf\n",
        "tf.set_random_seed(42)"
      ],
      "execution_count": 0,
      "outputs": [
        {
          "output_type": "display_data",
          "data": {
            "text/html": [
              "<p style=\"color: red;\">\n",
              "The default version of TensorFlow in Colab will soon switch to TensorFlow 2.x.<br>\n",
              "We recommend you <a href=\"https://www.tensorflow.org/guide/migrate\" target=\"_blank\">upgrade</a> now \n",
              "or ensure your notebook will continue to use TensorFlow 1.x via the <code>%tensorflow_version 1.x</code> magic:\n",
              "<a href=\"https://colab.research.google.com/notebooks/tensorflow_version.ipynb\" target=\"_blank\">more info</a>.</p>\n"
            ],
            "text/plain": [
              "<IPython.core.display.HTML object>"
            ]
          },
          "metadata": {
            "tags": []
          }
        }
      ]
    },
    {
      "cell_type": "code",
      "metadata": {
        "id": "asb6SevNbkr0",
        "colab_type": "code",
        "colab": {}
      },
      "source": [
        "# Configuring a session\n",
        "session_conf = tf.ConfigProto(\n",
        "    intra_op_parallelism_threads=1,\n",
        "    inter_op_parallelism_threads=1\n",
        ")"
      ],
      "execution_count": 0,
      "outputs": []
    },
    {
      "cell_type": "code",
      "metadata": {
        "id": "gvr4oEqubkr4",
        "colab_type": "code",
        "outputId": "b5673d21-49fa-461a-83b0-f96be2684fe6",
        "colab": {
          "base_uri": "https://localhost:8080/",
          "height": 34
        }
      },
      "source": [
        "# Import Keras\n",
        "from keras import backend as K\n",
        "sess = tf.Session(graph=tf.get_default_graph(), config=session_conf)\n",
        "K.set_session(sess)"
      ],
      "execution_count": 0,
      "outputs": [
        {
          "output_type": "stream",
          "text": [
            "Using TensorFlow backend.\n"
          ],
          "name": "stderr"
        }
      ]
    },
    {
      "cell_type": "code",
      "metadata": {
        "id": "hJYktZWabkr8",
        "colab_type": "code",
        "colab": {}
      },
      "source": [
        "# Importing libraries\n",
        "from keras.models import Sequential\n",
        "from keras.layers import LSTM\n",
        "from keras.layers.core import Dense, Dropout"
      ],
      "execution_count": 0,
      "outputs": []
    },
    {
      "cell_type": "code",
      "metadata": {
        "id": "g0NcPbAYbksB",
        "colab_type": "code",
        "colab": {}
      },
      "source": [
        "# Initializing parameters\n",
        "epochs = 30\n",
        "batch_size = 16\n",
        "n_hidden = 32"
      ],
      "execution_count": 0,
      "outputs": []
    },
    {
      "cell_type": "code",
      "metadata": {
        "id": "xgOMJPuubksF",
        "colab_type": "code",
        "colab": {}
      },
      "source": [
        "# Utility function to count the number of classes\n",
        "def _count_classes(y):\n",
        "    return len(set([tuple(category) for category in y]))"
      ],
      "execution_count": 0,
      "outputs": []
    },
    {
      "cell_type": "code",
      "metadata": {
        "id": "vYemXuePbksK",
        "colab_type": "code",
        "outputId": "af7efdc1-4258-4b8a-fb3e-5a9a91b1236a",
        "colab": {
          "base_uri": "https://localhost:8080/",
          "height": 85
        }
      },
      "source": [
        "# Loading the train and test data\n",
        "X_train, X_test, Y_train, Y_test = load_data()"
      ],
      "execution_count": 0,
      "outputs": [
        {
          "output_type": "stream",
          "text": [
            "/usr/local/lib/python3.6/dist-packages/ipykernel_launcher.py:11: FutureWarning: Method .as_matrix will be removed in a future version. Use .values instead.\n",
            "  # This is added back by InteractiveShellApp.init_path()\n",
            "/usr/local/lib/python3.6/dist-packages/ipykernel_launcher.py:12: FutureWarning: Method .as_matrix will be removed in a future version. Use .values instead.\n",
            "  if sys.path[0] == '':\n"
          ],
          "name": "stderr"
        }
      ]
    },
    {
      "cell_type": "code",
      "metadata": {
        "id": "n7bfoF39bksO",
        "colab_type": "code",
        "outputId": "cd1fe228-e14e-4147-82e7-f86e14cd8f80",
        "colab": {
          "base_uri": "https://localhost:8080/",
          "height": 68
        }
      },
      "source": [
        "timesteps = len(X_train[0])\n",
        "input_dim = len(X_train[0][0])\n",
        "n_classes = _count_classes(Y_train)\n",
        "\n",
        "print(timesteps)\n",
        "print(input_dim)\n",
        "print(len(X_train))"
      ],
      "execution_count": 0,
      "outputs": [
        {
          "output_type": "stream",
          "text": [
            "128\n",
            "9\n",
            "7352\n"
          ],
          "name": "stdout"
        }
      ]
    },
    {
      "cell_type": "markdown",
      "metadata": {
        "id": "pZobWAfybksT",
        "colab_type": "text"
      },
      "source": [
        "- Defining the Architecture of LSTM"
      ]
    },
    {
      "cell_type": "code",
      "metadata": {
        "id": "hMl6xkmVbksV",
        "colab_type": "code",
        "outputId": "f3cb5e13-dc27-4aba-d7f9-9a2c94f3bdfb",
        "colab": {
          "base_uri": "https://localhost:8080/",
          "height": 428
        }
      },
      "source": [
        "# Initiliazing the sequential model\n",
        "model = Sequential()\n",
        "# Configuring the parameters\n",
        "model.add(LSTM(n_hidden, input_shape=(timesteps, input_dim)))\n",
        "# Adding a dropout layer\n",
        "model.add(Dropout(0.5))\n",
        "# Adding a dense output layer with sigmoid activation\n",
        "model.add(Dense(n_classes, activation='sigmoid'))\n",
        "model.summary()"
      ],
      "execution_count": 0,
      "outputs": [
        {
          "output_type": "stream",
          "text": [
            "WARNING:tensorflow:From /usr/local/lib/python3.6/dist-packages/keras/backend/tensorflow_backend.py:541: The name tf.placeholder is deprecated. Please use tf.compat.v1.placeholder instead.\n",
            "\n",
            "WARNING:tensorflow:From /usr/local/lib/python3.6/dist-packages/keras/backend/tensorflow_backend.py:4432: The name tf.random_uniform is deprecated. Please use tf.random.uniform instead.\n",
            "\n",
            "WARNING:tensorflow:From /usr/local/lib/python3.6/dist-packages/keras/backend/tensorflow_backend.py:148: The name tf.placeholder_with_default is deprecated. Please use tf.compat.v1.placeholder_with_default instead.\n",
            "\n",
            "WARNING:tensorflow:From /usr/local/lib/python3.6/dist-packages/keras/backend/tensorflow_backend.py:3733: calling dropout (from tensorflow.python.ops.nn_ops) with keep_prob is deprecated and will be removed in a future version.\n",
            "Instructions for updating:\n",
            "Please use `rate` instead of `keep_prob`. Rate should be set to `rate = 1 - keep_prob`.\n",
            "Model: \"sequential_1\"\n",
            "_________________________________________________________________\n",
            "Layer (type)                 Output Shape              Param #   \n",
            "=================================================================\n",
            "lstm_1 (LSTM)                (None, 32)                5376      \n",
            "_________________________________________________________________\n",
            "dropout_1 (Dropout)          (None, 32)                0         \n",
            "_________________________________________________________________\n",
            "dense_1 (Dense)              (None, 6)                 198       \n",
            "=================================================================\n",
            "Total params: 5,574\n",
            "Trainable params: 5,574\n",
            "Non-trainable params: 0\n",
            "_________________________________________________________________\n"
          ],
          "name": "stdout"
        }
      ]
    },
    {
      "cell_type": "code",
      "metadata": {
        "id": "V5EeWNSpbksZ",
        "colab_type": "code",
        "outputId": "1d08441a-a41b-485e-ba11-fa6de44a3881",
        "colab": {
          "base_uri": "https://localhost:8080/",
          "height": 105
        }
      },
      "source": [
        "# Compiling the model\n",
        "model.compile(loss='categorical_crossentropy',\n",
        "              optimizer='rmsprop',\n",
        "              metrics=['accuracy'])"
      ],
      "execution_count": 0,
      "outputs": [
        {
          "output_type": "stream",
          "text": [
            "WARNING:tensorflow:From /usr/local/lib/python3.6/dist-packages/keras/optimizers.py:793: The name tf.train.Optimizer is deprecated. Please use tf.compat.v1.train.Optimizer instead.\n",
            "\n",
            "WARNING:tensorflow:From /usr/local/lib/python3.6/dist-packages/keras/backend/tensorflow_backend.py:3576: The name tf.log is deprecated. Please use tf.math.log instead.\n",
            "\n"
          ],
          "name": "stdout"
        }
      ]
    },
    {
      "cell_type": "code",
      "metadata": {
        "id": "ODyn3oVUbksd",
        "colab_type": "code",
        "outputId": "55037462-c04d-4d65-e681-48cf08ff1333",
        "colab": {
          "base_uri": "https://localhost:8080/",
          "height": 1000
        }
      },
      "source": [
        "# Training the model\n",
        "model.fit(X_train,\n",
        "          Y_train,\n",
        "          batch_size=batch_size,\n",
        "          validation_data=(X_test, Y_test),\n",
        "          epochs=epochs)"
      ],
      "execution_count": 0,
      "outputs": [
        {
          "output_type": "stream",
          "text": [
            "WARNING:tensorflow:From /usr/local/lib/python3.6/dist-packages/tensorflow_core/python/ops/math_grad.py:1424: where (from tensorflow.python.ops.array_ops) is deprecated and will be removed in a future version.\n",
            "Instructions for updating:\n",
            "Use tf.where in 2.0, which has the same broadcast rule as np.where\n",
            "WARNING:tensorflow:From /usr/local/lib/python3.6/dist-packages/keras/backend/tensorflow_backend.py:1033: The name tf.assign_add is deprecated. Please use tf.compat.v1.assign_add instead.\n",
            "\n",
            "WARNING:tensorflow:From /usr/local/lib/python3.6/dist-packages/keras/backend/tensorflow_backend.py:1020: The name tf.assign is deprecated. Please use tf.compat.v1.assign instead.\n",
            "\n",
            "Train on 7352 samples, validate on 2947 samples\n",
            "Epoch 1/30\n",
            "WARNING:tensorflow:From /usr/local/lib/python3.6/dist-packages/keras/backend/tensorflow_backend.py:190: The name tf.get_default_session is deprecated. Please use tf.compat.v1.get_default_session instead.\n",
            "\n",
            "WARNING:tensorflow:From /usr/local/lib/python3.6/dist-packages/keras/backend/tensorflow_backend.py:207: The name tf.global_variables is deprecated. Please use tf.compat.v1.global_variables instead.\n",
            "\n",
            "WARNING:tensorflow:From /usr/local/lib/python3.6/dist-packages/keras/backend/tensorflow_backend.py:216: The name tf.is_variable_initialized is deprecated. Please use tf.compat.v1.is_variable_initialized instead.\n",
            "\n",
            "WARNING:tensorflow:From /usr/local/lib/python3.6/dist-packages/keras/backend/tensorflow_backend.py:223: The name tf.variables_initializer is deprecated. Please use tf.compat.v1.variables_initializer instead.\n",
            "\n",
            "7352/7352 [==============================] - 31s 4ms/step - loss: 1.3174 - acc: 0.4421 - val_loss: 1.1341 - val_acc: 0.4835\n",
            "Epoch 2/30\n",
            "7352/7352 [==============================] - 31s 4ms/step - loss: 0.9761 - acc: 0.5778 - val_loss: 0.9061 - val_acc: 0.6023\n",
            "Epoch 3/30\n",
            "7352/7352 [==============================] - 30s 4ms/step - loss: 0.7827 - acc: 0.6459 - val_loss: 0.7952 - val_acc: 0.6098\n",
            "Epoch 4/30\n",
            "7352/7352 [==============================] - 30s 4ms/step - loss: 0.7027 - acc: 0.6544 - val_loss: 0.8491 - val_acc: 0.5796\n",
            "Epoch 5/30\n",
            "7352/7352 [==============================] - 30s 4ms/step - loss: 0.6593 - acc: 0.6666 - val_loss: 0.7274 - val_acc: 0.6152\n",
            "Epoch 6/30\n",
            "7352/7352 [==============================] - 30s 4ms/step - loss: 0.6333 - acc: 0.6657 - val_loss: 1.1423 - val_acc: 0.4886\n",
            "Epoch 7/30\n",
            "7352/7352 [==============================] - 30s 4ms/step - loss: 0.5892 - acc: 0.6853 - val_loss: 0.9126 - val_acc: 0.5942\n",
            "Epoch 8/30\n",
            "7352/7352 [==============================] - 30s 4ms/step - loss: 0.5670 - acc: 0.6970 - val_loss: 0.6692 - val_acc: 0.6200\n",
            "Epoch 9/30\n",
            "7352/7352 [==============================] - 30s 4ms/step - loss: 0.5301 - acc: 0.7087 - val_loss: 0.6705 - val_acc: 0.6810\n",
            "Epoch 10/30\n",
            "7352/7352 [==============================] - 30s 4ms/step - loss: 0.5099 - acc: 0.7374 - val_loss: 0.7268 - val_acc: 0.6746\n",
            "Epoch 11/30\n",
            "7352/7352 [==============================] - 30s 4ms/step - loss: 0.4809 - acc: 0.7797 - val_loss: 0.8001 - val_acc: 0.7360\n",
            "Epoch 12/30\n",
            "7352/7352 [==============================] - 30s 4ms/step - loss: 0.4188 - acc: 0.7967 - val_loss: 0.5559 - val_acc: 0.7462\n",
            "Epoch 13/30\n",
            "7352/7352 [==============================] - 30s 4ms/step - loss: 0.3779 - acc: 0.7969 - val_loss: 0.5725 - val_acc: 0.7455\n",
            "Epoch 14/30\n",
            "7352/7352 [==============================] - 30s 4ms/step - loss: 0.3612 - acc: 0.8025 - val_loss: 0.5966 - val_acc: 0.7387\n",
            "Epoch 15/30\n",
            "7352/7352 [==============================] - 30s 4ms/step - loss: 0.3393 - acc: 0.8138 - val_loss: 0.4829 - val_acc: 0.7628\n",
            "Epoch 16/30\n",
            "7352/7352 [==============================] - 30s 4ms/step - loss: 0.4155 - acc: 0.7950 - val_loss: 0.4849 - val_acc: 0.7577\n",
            "Epoch 17/30\n",
            "7352/7352 [==============================] - 30s 4ms/step - loss: 0.3626 - acc: 0.8300 - val_loss: 0.4530 - val_acc: 0.7604\n",
            "Epoch 18/30\n",
            "7352/7352 [==============================] - 30s 4ms/step - loss: 0.3452 - acc: 0.8445 - val_loss: 0.5228 - val_acc: 0.7703\n",
            "Epoch 19/30\n",
            "7352/7352 [==============================] - 30s 4ms/step - loss: 0.3059 - acc: 0.8766 - val_loss: 0.5098 - val_acc: 0.8945\n",
            "Epoch 20/30\n",
            "7352/7352 [==============================] - 30s 4ms/step - loss: 0.2666 - acc: 0.9053 - val_loss: 1.0036 - val_acc: 0.8195\n",
            "Epoch 21/30\n",
            "7352/7352 [==============================] - 30s 4ms/step - loss: 0.2717 - acc: 0.9272 - val_loss: 0.4730 - val_acc: 0.8812\n",
            "Epoch 22/30\n",
            "7352/7352 [==============================] - 30s 4ms/step - loss: 0.2055 - acc: 0.9350 - val_loss: 0.6788 - val_acc: 0.8605\n",
            "Epoch 23/30\n",
            "7352/7352 [==============================] - 30s 4ms/step - loss: 0.1801 - acc: 0.9377 - val_loss: 0.5957 - val_acc: 0.8673\n",
            "Epoch 24/30\n",
            "7352/7352 [==============================] - 30s 4ms/step - loss: 0.1814 - acc: 0.9411 - val_loss: 0.4781 - val_acc: 0.8972\n",
            "Epoch 25/30\n",
            "7352/7352 [==============================] - 30s 4ms/step - loss: 0.1641 - acc: 0.9407 - val_loss: 0.4373 - val_acc: 0.8839\n",
            "Epoch 26/30\n",
            "7352/7352 [==============================] - 30s 4ms/step - loss: 0.1821 - acc: 0.9421 - val_loss: 0.5561 - val_acc: 0.8775\n",
            "Epoch 27/30\n",
            "7352/7352 [==============================] - 30s 4ms/step - loss: 0.2445 - acc: 0.9366 - val_loss: 0.5092 - val_acc: 0.8823\n",
            "Epoch 28/30\n",
            "7352/7352 [==============================] - 30s 4ms/step - loss: 0.1492 - acc: 0.9501 - val_loss: 0.6193 - val_acc: 0.8643\n",
            "Epoch 29/30\n",
            "7352/7352 [==============================] - 30s 4ms/step - loss: 0.1881 - acc: 0.9402 - val_loss: 0.5112 - val_acc: 0.8877\n",
            "Epoch 30/30\n",
            "7352/7352 [==============================] - 30s 4ms/step - loss: 0.2196 - acc: 0.9399 - val_loss: 0.6657 - val_acc: 0.8755\n"
          ],
          "name": "stdout"
        },
        {
          "output_type": "execute_result",
          "data": {
            "text/plain": [
              "<keras.callbacks.History at 0x7fca83ca65f8>"
            ]
          },
          "metadata": {
            "tags": []
          },
          "execution_count": 24
        }
      ]
    },
    {
      "cell_type": "code",
      "metadata": {
        "id": "zMJHogDB5_3A",
        "colab_type": "code",
        "outputId": "c50cbe50-4f8b-4e17-ccba-9a6e45591c47",
        "colab": {
          "base_uri": "https://localhost:8080/",
          "height": 651
        }
      },
      "source": [
        "Y_true = pd.Series([ACTIVITIES[y] for y in np.argmax(Y_test, axis=1)])\n",
        "Y_pred = pd.Series([ACTIVITIES[y] for y in np.argmax(model.predict(X_test), axis=1)])\n",
        "confusionMatx = pd.crosstab(Y_true, Y_pred, rownames=['True'], colnames=['Pred'])\n",
        "labels = [\"WALKING\", \"WALKING_UPSTAIRS\", \"WALKING_DOWNSTAIRS\", \"SITTING\", \"STANDING\", \"LYING\"]\n",
        "    \n",
        "plt.figure(figsize=(16,7))\n",
        "sns.heatmap(confusionMatx, cmap = \"Blues\", annot = True, fmt = \".1f\", xticklabels=labels, yticklabels=labels)\n",
        "plt.title(\"Confusion Matrix\", fontsize = 30)\n",
        "plt.xlabel('Predicted Class', fontsize = 20)\n",
        "plt.ylabel('Original Class', fontsize = 20)\n",
        "plt.tick_params(labelsize = 15)\n",
        "plt.xticks(rotation = 90)\n",
        "plt.show()"
      ],
      "execution_count": 0,
      "outputs": [
        {
          "output_type": "display_data",
          "data": {
            "image/png": "[encoded data removed]",
            "text/plain": [
              "<Figure size 1152x504 with 2 Axes>"
            ]
          },
          "metadata": {
            "tags": []
          }
        }
      ]
    },
    {
      "cell_type": "code",
      "metadata": {
        "id": "yCEX7Orfbksl",
        "colab_type": "code",
        "outputId": "d1b5866d-acf4-44a5-aa3d-6c1280bb82be",
        "colab": {
          "base_uri": "https://localhost:8080/",
          "height": 187
        }
      },
      "source": [
        "# Confusion Matrix\n",
        "print(confusion_matrix(Y_test, model.predict(X_test)))"
      ],
      "execution_count": 0,
      "outputs": [
        {
          "output_type": "stream",
          "text": [
            "Pred                LAYING  SITTING  ...  WALKING_DOWNSTAIRS  WALKING_UPSTAIRS\n",
            "True                                 ...                                      \n",
            "LAYING                 510        0  ...                   0                27\n",
            "SITTING                  0      384  ...                   0                 3\n",
            "STANDING                 0       89  ...                   0                 0\n",
            "WALKING                  0        0  ...                  29                 6\n",
            "WALKING_DOWNSTAIRS       0        0  ...                 391                 8\n",
            "WALKING_UPSTAIRS         0        0  ...                  25               391\n",
            "\n",
            "[6 rows x 6 columns]\n"
          ],
          "name": "stdout"
        }
      ]
    },
    {
      "cell_type": "code",
      "metadata": {
        "id": "hpKlIID_bksr",
        "colab_type": "code",
        "outputId": "a20b658e-d9dc-4303-8cac-70059a6d74c3",
        "colab": {
          "base_uri": "https://localhost:8080/",
          "height": 34
        }
      },
      "source": [
        "score = model.evaluate(X_test, Y_test)"
      ],
      "execution_count": 0,
      "outputs": [
        {
          "output_type": "stream",
          "text": [
            "2947/2947 [==============================] - 1s 336us/step\n"
          ],
          "name": "stdout"
        }
      ]
    },
    {
      "cell_type": "code",
      "metadata": {
        "id": "Ob4JOHuVbksv",
        "colab_type": "code",
        "outputId": "774bb8a4-8a35-4bdc-ffee-5fdab7bf96c4",
        "colab": {
          "base_uri": "https://localhost:8080/",
          "height": 34
        }
      },
      "source": [
        "score"
      ],
      "execution_count": 0,
      "outputs": [
        {
          "output_type": "execute_result",
          "data": {
            "text/plain": [
              "[0.6656655673765173, 0.8754665761791652]"
            ]
          },
          "metadata": {
            "tags": []
          },
          "execution_count": 27
        }
      ]
    },
    {
      "cell_type": "markdown",
      "metadata": {
        "id": "IZqqH1vMbksz",
        "colab_type": "text"
      },
      "source": [
        "- With a simple 2 layer architecture we got 90.09% accuracy and a loss of 0.30\n",
        "- We can further imporve the performace with Hyperparameter tuning"
      ]
    },
    {
      "cell_type": "code",
      "metadata": {
        "colab_type": "code",
        "id": "h7qpIBfhmG7Q",
        "colab": {}
      },
      "source": [
        "#dropOutValue=0.5\n",
        "#optimizer = 'rmsprop',\n",
        "# Initializing parameters\n",
        "# epochs = 30\n",
        "# batch_size = 16\n",
        "# n_hidden = 32\n",
        "# input_dim = len(X_train[0][0])\n",
        "# n_classes = _count_classes(Y_train)\n",
        "\n",
        "def model_one_layer(n_hidden,input_dim,dropOutValue,n_classes,optimizer,X_train,Y_train,batch_size,epochs,X_test,Y_test):\n",
        "\n",
        "  # Initiliazing the sequential model\n",
        "  model = Sequential()\n",
        "  # Configuring the parameters\n",
        "  model.add(LSTM(n_hidden, input_shape=(timesteps, input_dim)))\n",
        "  # Adding a dropout layer\n",
        "  model.add(Dropout(dropOutValue))\n",
        "  # Adding a dense output layer with sigmoid activation\n",
        "  model.add(Dense(n_classes, activation='sigmoid'))\n",
        "  print('\\n*******Model Summary*******\\n ' ,model.summary())\n",
        "\n",
        "  # Compiling the model\n",
        "  model.compile(loss='categorical_crossentropy',\n",
        "                optimizer=optimizer,\n",
        "                metrics=['accuracy'])\n",
        "\n",
        "  # Training the model\n",
        "  histo = model.fit(X_train,\n",
        "            Y_train,\n",
        "            batch_size=batch_size,\n",
        "            validation_data=(X_test, Y_test),\n",
        "            epochs=epochs)\n",
        "\n",
        "  # Confusion Matrix\n",
        "  print('\\n**********************Confusion Matrix********************\\n')\n",
        "  confusion_matrix(Y_test, model.predict(X_test))\n",
        "  confusionMatx = confusion_matrix(Y_test, model.predict(X_test))\n",
        "  labels = [\"WALKING\", \"WALKING_UPSTAIRS\", \"WALKING_DOWNSTAIRS\", \"SITTING\", \"STANDING\", \"LYING\"]\n",
        "      \n",
        "  plt.figure(figsize=(16,7))\n",
        "  sns.heatmap(confusionMatx, cmap = \"Blues\", annot = True, fmt = \".1f\", xticklabels=labels, yticklabels=labels)\n",
        "  plt.title(\"Confusion Matrix\", fontsize = 30)\n",
        "  plt.xlabel('Predicted Class', fontsize = 20)\n",
        "  plt.ylabel('Original Class', fontsize = 20)\n",
        "  plt.tick_params(labelsize = 15)\n",
        "  plt.xticks(rotation = 90)\n",
        "  plt.show()\n",
        "  #score\n",
        "\n",
        "  print('\\n*******************Train Score********************\\n ')\n",
        "  print('\\nTrain loss : ',histo.history['loss'])\n",
        "  print('\\nTrain Accuracy : ',histo.history['accuracy'])\n",
        "\n",
        "  print('\\n*******************Test Score***************************\\n ',model.evaluate(X_test, Y_test))\n",
        "\n",
        "  return"
      ],
      "execution_count": 0,
      "outputs": []
    },
    {
      "cell_type": "markdown",
      "metadata": {
        "id": "gI3SUpy6Z1lm",
        "colab_type": "text"
      },
      "source": [
        "Changing the optimizer to adam and keeping all values same as above and observing the accuracy"
      ]
    },
    {
      "cell_type": "code",
      "metadata": {
        "colab_type": "code",
        "outputId": "6d773789-3e9f-4760-c440-16f8844fcaf9",
        "id": "SXU1MWcYmG7U",
        "colab": {
          "base_uri": "https://localhost:8080/",
          "height": 1000
        }
      },
      "source": [
        "model_one_layer(32,len(X_train[0][0]),0.5,_count_classes(Y_train),'adam',X_train,Y_train,16,30,X_test,Y_test)\n"
      ],
      "execution_count": 0,
      "outputs": [
        {
          "output_type": "stream",
          "text": [
            "Model: \"sequential_2\"\n",
            "_________________________________________________________________\n",
            "Layer (type)                 Output Shape              Param #   \n",
            "=================================================================\n",
            "lstm_2 (LSTM)                (None, 32)                5376      \n",
            "_________________________________________________________________\n",
            "dropout_2 (Dropout)          (None, 32)                0         \n",
            "_________________________________________________________________\n",
            "dense_2 (Dense)              (None, 6)                 198       \n",
            "=================================================================\n",
            "Total params: 5,574\n",
            "Trainable params: 5,574\n",
            "Non-trainable params: 0\n",
            "_________________________________________________________________\n",
            "*******Model Summary*******\n",
            "  None\n",
            "Train on 7352 samples, validate on 2947 samples\n",
            "Epoch 1/30\n",
            "7352/7352 [==============================] - 32s 4ms/step - loss: 1.4138 - acc: 0.3878 - val_loss: 1.3508 - val_acc: 0.3556\n",
            "Epoch 2/30\n",
            "7352/7352 [==============================] - 31s 4ms/step - loss: 1.2605 - acc: 0.4468 - val_loss: 1.1868 - val_acc: 0.4791\n",
            "Epoch 3/30\n",
            "7352/7352 [==============================] - 31s 4ms/step - loss: 1.1919 - acc: 0.4615 - val_loss: 1.2135 - val_acc: 0.4347\n",
            "Epoch 4/30\n",
            "7352/7352 [==============================] - 31s 4ms/step - loss: 1.1123 - acc: 0.5114 - val_loss: 1.5209 - val_acc: 0.3980\n",
            "Epoch 5/30\n",
            "7352/7352 [==============================] - 31s 4ms/step - loss: 0.9624 - acc: 0.5703 - val_loss: 0.8774 - val_acc: 0.5857\n",
            "Epoch 6/30\n",
            "7352/7352 [==============================] - 31s 4ms/step - loss: 0.8674 - acc: 0.6160 - val_loss: 0.9272 - val_acc: 0.5881\n",
            "Epoch 7/30\n",
            "7352/7352 [==============================] - 31s 4ms/step - loss: 0.8584 - acc: 0.6192 - val_loss: 0.8821 - val_acc: 0.5982\n",
            "Epoch 8/30\n",
            "7352/7352 [==============================] - 31s 4ms/step - loss: 0.8598 - acc: 0.6118 - val_loss: 0.8532 - val_acc: 0.5487\n",
            "Epoch 9/30\n",
            "7352/7352 [==============================] - 30s 4ms/step - loss: 0.7266 - acc: 0.6411 - val_loss: 0.7669 - val_acc: 0.6240\n",
            "Epoch 10/30\n",
            "7352/7352 [==============================] - 31s 4ms/step - loss: 1.1204 - acc: 0.5424 - val_loss: 1.0800 - val_acc: 0.5789\n",
            "Epoch 11/30\n",
            "7352/7352 [==============================] - 31s 4ms/step - loss: 0.9495 - acc: 0.5847 - val_loss: 0.8846 - val_acc: 0.5898\n",
            "Epoch 12/30\n",
            "7352/7352 [==============================] - 31s 4ms/step - loss: 0.8140 - acc: 0.6211 - val_loss: 0.9489 - val_acc: 0.5443\n",
            "Epoch 13/30\n",
            "7352/7352 [==============================] - 30s 4ms/step - loss: 0.7431 - acc: 0.6601 - val_loss: 0.8197 - val_acc: 0.6183\n",
            "Epoch 14/30\n",
            "7352/7352 [==============================] - 31s 4ms/step - loss: 0.7207 - acc: 0.6594 - val_loss: 0.7977 - val_acc: 0.6468\n",
            "Epoch 15/30\n",
            "7352/7352 [==============================] - 31s 4ms/step - loss: 0.6973 - acc: 0.6699 - val_loss: 0.7949 - val_acc: 0.6566\n",
            "Epoch 16/30\n",
            "7352/7352 [==============================] - 31s 4ms/step - loss: 0.6567 - acc: 0.6880 - val_loss: 0.7645 - val_acc: 0.6539\n",
            "Epoch 17/30\n",
            "7352/7352 [==============================] - 30s 4ms/step - loss: 0.6311 - acc: 0.6944 - val_loss: 0.7425 - val_acc: 0.6522\n",
            "Epoch 18/30\n",
            "7352/7352 [==============================] - 30s 4ms/step - loss: 0.7660 - acc: 0.6824 - val_loss: 0.8769 - val_acc: 0.6264\n",
            "Epoch 19/30\n",
            "7352/7352 [==============================] - 30s 4ms/step - loss: 0.8709 - acc: 0.6568 - val_loss: 1.6772 - val_acc: 0.3984\n",
            "Epoch 20/30\n",
            "7352/7352 [==============================] - 31s 4ms/step - loss: 1.1299 - acc: 0.5226 - val_loss: 0.9048 - val_acc: 0.6308\n",
            "Epoch 21/30\n",
            "7352/7352 [==============================] - 31s 4ms/step - loss: 0.8128 - acc: 0.6189 - val_loss: 0.7893 - val_acc: 0.6722\n",
            "Epoch 22/30\n",
            "7352/7352 [==============================] - 31s 4ms/step - loss: 0.7042 - acc: 0.6870 - val_loss: 0.7513 - val_acc: 0.6909\n",
            "Epoch 23/30\n",
            "7352/7352 [==============================] - 31s 4ms/step - loss: 0.6707 - acc: 0.7122 - val_loss: 0.7308 - val_acc: 0.7156\n",
            "Epoch 24/30\n",
            "7352/7352 [==============================] - 31s 4ms/step - loss: 0.6239 - acc: 0.7361 - val_loss: 0.6467 - val_acc: 0.7458\n",
            "Epoch 25/30\n",
            "7352/7352 [==============================] - 30s 4ms/step - loss: 0.6017 - acc: 0.7493 - val_loss: 0.6363 - val_acc: 0.7608\n",
            "Epoch 26/30\n",
            "7352/7352 [==============================] - 30s 4ms/step - loss: 0.5411 - acc: 0.7826 - val_loss: 0.5714 - val_acc: 0.7947\n",
            "Epoch 27/30\n",
            "7352/7352 [==============================] - 30s 4ms/step - loss: 0.5192 - acc: 0.8112 - val_loss: 0.6407 - val_acc: 0.7886\n",
            "Epoch 28/30\n",
            "7352/7352 [==============================] - 30s 4ms/step - loss: 0.4534 - acc: 0.8339 - val_loss: 0.5646 - val_acc: 0.8076\n",
            "Epoch 29/30\n",
            "7352/7352 [==============================] - 30s 4ms/step - loss: 0.5153 - acc: 0.8297 - val_loss: 0.5708 - val_acc: 0.8205\n",
            "Epoch 30/30\n",
            "7352/7352 [==============================] - 30s 4ms/step - loss: 0.3971 - acc: 0.8694 - val_loss: 0.5099 - val_acc: 0.8480\n",
            "*****Confusion Matrix****\n",
            " Pred                LAYING  SITTING  ...  WALKING_DOWNSTAIRS  WALKING_UPSTAIRS\n",
            "True                                 ...                                      \n",
            "LAYING                 510        0  ...                   0                27\n",
            "SITTING                  1      385  ...                   0                 2\n",
            "STANDING                 0       93  ...                   0                 7\n",
            "WALKING                  0        6  ...                  44                19\n",
            "WALKING_DOWNSTAIRS       0        1  ...                 389                 3\n",
            "WALKING_UPSTAIRS         0        1  ...                  22               360\n",
            "\n",
            "[6 rows x 6 columns]\n",
            "2947/2947 [==============================] - 1s 339us/step\n",
            "********Score********\n",
            "  [0.5098954463610821, 0.8479809976247031]\n"
          ],
          "name": "stdout"
        }
      ]
    },
    {
      "cell_type": "markdown",
      "metadata": {
        "id": "rvT1JdsVdieK",
        "colab_type": "text"
      },
      "source": [
        "Accuracy has decreased a slight with adam optimizer."
      ]
    },
    {
      "cell_type": "markdown",
      "metadata": {
        "id": "xUf3iZhveftc",
        "colab_type": "text"
      },
      "source": [
        "Evaluating the model with 32 hidden layers and a large drop out rate of 0.60"
      ]
    },
    {
      "cell_type": "code",
      "metadata": {
        "colab_type": "code",
        "id": "5FCezqvOmG7Y",
        "outputId": "9e096c36-b02f-4709-bea9-e67986d631dc",
        "colab": {
          "base_uri": "https://localhost:8080/",
          "height": 1000
        }
      },
      "source": [
        "model_one_layer(32,len(X_train[0][0]),0.6,_count_classes(Y_train),'rmsprop',X_train,Y_train,16,30,X_test,Y_test)\n"
      ],
      "execution_count": 0,
      "outputs": [
        {
          "output_type": "stream",
          "text": [
            "WARNING:tensorflow:Large dropout rate: 0.6 (>0.5). In TensorFlow 2.x, dropout() uses dropout rate instead of keep_prob. Please ensure that this is intended.\n",
            "Model: \"sequential_4\"\n",
            "_________________________________________________________________\n",
            "Layer (type)                 Output Shape              Param #   \n",
            "=================================================================\n",
            "lstm_4 (LSTM)                (None, 32)                5376      \n",
            "_________________________________________________________________\n",
            "dropout_4 (Dropout)          (None, 32)                0         \n",
            "_________________________________________________________________\n",
            "dense_4 (Dense)              (None, 6)                 198       \n",
            "=================================================================\n",
            "Total params: 5,574\n",
            "Trainable params: 5,574\n",
            "Non-trainable params: 0\n",
            "_________________________________________________________________\n",
            "*******Model Summary*******\n",
            "  None\n",
            "Train on 7352 samples, validate on 2947 samples\n",
            "Epoch 1/30\n",
            "7352/7352 [==============================] - 32s 4ms/step - loss: 1.4121 - acc: 0.3716 - val_loss: 1.2772 - val_acc: 0.5124\n",
            "Epoch 2/30\n",
            "7352/7352 [==============================] - 30s 4ms/step - loss: 1.1388 - acc: 0.5139 - val_loss: 1.1053 - val_acc: 0.4927\n",
            "Epoch 3/30\n",
            "7352/7352 [==============================] - 31s 4ms/step - loss: 0.9862 - acc: 0.5684 - val_loss: 0.8735 - val_acc: 0.5901\n",
            "Epoch 4/30\n",
            "7352/7352 [==============================] - 31s 4ms/step - loss: 0.8077 - acc: 0.6525 - val_loss: 0.7814 - val_acc: 0.6471\n",
            "Epoch 5/30\n",
            "7352/7352 [==============================] - 31s 4ms/step - loss: 0.7285 - acc: 0.6763 - val_loss: 0.7925 - val_acc: 0.6301\n",
            "Epoch 6/30\n",
            "7352/7352 [==============================] - 31s 4ms/step - loss: 0.6865 - acc: 0.7008 - val_loss: 0.8698 - val_acc: 0.6393\n",
            "Epoch 7/30\n",
            "7352/7352 [==============================] - 31s 4ms/step - loss: 0.6416 - acc: 0.7348 - val_loss: 0.7256 - val_acc: 0.7004\n",
            "Epoch 8/30\n",
            "7352/7352 [==============================] - 31s 4ms/step - loss: 0.5994 - acc: 0.7578 - val_loss: 0.6106 - val_acc: 0.7326\n",
            "Epoch 9/30\n",
            "7352/7352 [==============================] - 31s 4ms/step - loss: 0.5529 - acc: 0.7818 - val_loss: 0.5604 - val_acc: 0.7533\n",
            "Epoch 10/30\n",
            "7352/7352 [==============================] - 31s 4ms/step - loss: 0.5373 - acc: 0.7919 - val_loss: 0.6715 - val_acc: 0.7462\n",
            "Epoch 11/30\n",
            "7352/7352 [==============================] - 31s 4ms/step - loss: 0.5021 - acc: 0.8078 - val_loss: 0.6153 - val_acc: 0.7913\n",
            "Epoch 12/30\n",
            "7352/7352 [==============================] - 31s 4ms/step - loss: 0.4760 - acc: 0.8297 - val_loss: 0.6905 - val_acc: 0.7862\n",
            "Epoch 13/30\n",
            "7352/7352 [==============================] - 31s 4ms/step - loss: 0.4230 - acc: 0.8711 - val_loss: 0.4693 - val_acc: 0.8656\n",
            "Epoch 14/30\n",
            "7352/7352 [==============================] - 31s 4ms/step - loss: 0.4070 - acc: 0.8762 - val_loss: 0.3885 - val_acc: 0.8687\n",
            "Epoch 15/30\n",
            "7352/7352 [==============================] - 31s 4ms/step - loss: 0.3801 - acc: 0.8904 - val_loss: 0.4210 - val_acc: 0.8711\n",
            "Epoch 16/30\n",
            "7352/7352 [==============================] - 31s 4ms/step - loss: 0.3390 - acc: 0.9075 - val_loss: 0.3925 - val_acc: 0.8761\n",
            "Epoch 17/30\n",
            "7352/7352 [==============================] - 31s 4ms/step - loss: 0.3233 - acc: 0.9113 - val_loss: 0.4097 - val_acc: 0.8768\n",
            "Epoch 18/30\n",
            "7352/7352 [==============================] - 31s 4ms/step - loss: 0.2850 - acc: 0.9135 - val_loss: 0.3119 - val_acc: 0.8955\n",
            "Epoch 19/30\n",
            "7352/7352 [==============================] - 31s 4ms/step - loss: 0.2676 - acc: 0.9244 - val_loss: 0.3381 - val_acc: 0.8894\n",
            "Epoch 20/30\n",
            "7352/7352 [==============================] - 31s 4ms/step - loss: 0.2599 - acc: 0.9241 - val_loss: 0.4274 - val_acc: 0.8918\n",
            "Epoch 21/30\n",
            "7352/7352 [==============================] - 31s 4ms/step - loss: 0.2358 - acc: 0.9266 - val_loss: 0.4175 - val_acc: 0.8799\n",
            "Epoch 22/30\n",
            "7352/7352 [==============================] - 31s 4ms/step - loss: 0.2492 - acc: 0.9310 - val_loss: 0.3345 - val_acc: 0.8955\n",
            "Epoch 23/30\n",
            "7352/7352 [==============================] - 31s 4ms/step - loss: 0.2338 - acc: 0.9312 - val_loss: 0.4606 - val_acc: 0.8717\n",
            "Epoch 24/30\n",
            "7352/7352 [==============================] - 31s 4ms/step - loss: 0.2280 - acc: 0.9298 - val_loss: 0.3249 - val_acc: 0.8870\n",
            "Epoch 25/30\n",
            "7352/7352 [==============================] - 31s 4ms/step - loss: 0.2064 - acc: 0.9358 - val_loss: 0.5490 - val_acc: 0.8707\n",
            "Epoch 26/30\n",
            "7352/7352 [==============================] - 31s 4ms/step - loss: 0.2053 - acc: 0.9328 - val_loss: 0.4700 - val_acc: 0.8877\n",
            "Epoch 27/30\n",
            "7352/7352 [==============================] - 31s 4ms/step - loss: 0.2271 - acc: 0.9372 - val_loss: 0.3908 - val_acc: 0.8941\n",
            "Epoch 28/30\n",
            "7352/7352 [==============================] - 31s 4ms/step - loss: 0.2118 - acc: 0.9374 - val_loss: 0.3012 - val_acc: 0.8979\n",
            "Epoch 29/30\n",
            "7352/7352 [==============================] - 31s 4ms/step - loss: 0.1870 - acc: 0.9400 - val_loss: 0.3025 - val_acc: 0.9016\n",
            "Epoch 30/30\n",
            "7352/7352 [==============================] - 31s 4ms/step - loss: 0.2174 - acc: 0.9382 - val_loss: 0.4387 - val_acc: 0.9002\n",
            "*****Confusion Matrix****\n",
            " Pred                LAYING  SITTING  ...  WALKING_DOWNSTAIRS  WALKING_UPSTAIRS\n",
            "True                                 ...                                      \n",
            "LAYING                 537        0  ...                   0                 0\n",
            "SITTING                  4      362  ...                   0                 1\n",
            "STANDING                 0       51  ...                   0                 2\n",
            "WALKING                  0        0  ...                   0                68\n",
            "WALKING_DOWNSTAIRS       0        0  ...                 387                33\n",
            "WALKING_UPSTAIRS         0        0  ...                   2               464\n",
            "\n",
            "[6 rows x 6 columns]\n",
            "2947/2947 [==============================] - 1s 358us/step\n",
            "********Score********\n",
            "  [0.43871046968390875, 0.9002375296912114]\n"
          ],
          "name": "stdout"
        }
      ]
    },
    {
      "cell_type": "code",
      "metadata": {
        "colab_type": "code",
        "id": "YWDBh5EbmG7a",
        "outputId": "5a7b1076-4117-41f4-d4f7-502e3a356c1c",
        "colab": {
          "base_uri": "https://localhost:8080/",
          "height": 1000
        }
      },
      "source": [
        "model_one_layer(32,len(X_train[0][0]),0.55,_count_classes(Y_train),'rmsprop',X_train,Y_train,16,30,X_test,Y_test)"
      ],
      "execution_count": 0,
      "outputs": [
        {
          "output_type": "stream",
          "text": [
            "WARNING:tensorflow:Large dropout rate: 0.55 (>0.5). In TensorFlow 2.x, dropout() uses dropout rate instead of keep_prob. Please ensure that this is intended.\n",
            "Model: \"sequential_5\"\n",
            "_________________________________________________________________\n",
            "Layer (type)                 Output Shape              Param #   \n",
            "=================================================================\n",
            "lstm_5 (LSTM)                (None, 32)                5376      \n",
            "_________________________________________________________________\n",
            "dropout_5 (Dropout)          (None, 32)                0         \n",
            "_________________________________________________________________\n",
            "dense_5 (Dense)              (None, 6)                 198       \n",
            "=================================================================\n",
            "Total params: 5,574\n",
            "Trainable params: 5,574\n",
            "Non-trainable params: 0\n",
            "_________________________________________________________________\n",
            "*******Model Summary*******\n",
            "  None\n",
            "Train on 7352 samples, validate on 2947 samples\n",
            "Epoch 1/30\n",
            "7352/7352 [==============================] - 32s 4ms/step - loss: 1.3728 - acc: 0.4236 - val_loss: 1.1032 - val_acc: 0.5480\n",
            "Epoch 2/30\n",
            "7352/7352 [==============================] - 31s 4ms/step - loss: 0.9700 - acc: 0.5736 - val_loss: 0.8195 - val_acc: 0.6383\n",
            "Epoch 3/30\n",
            "7352/7352 [==============================] - 31s 4ms/step - loss: 0.8018 - acc: 0.6281 - val_loss: 0.7578 - val_acc: 0.6379\n",
            "Epoch 4/30\n",
            "7352/7352 [==============================] - 31s 4ms/step - loss: 0.7685 - acc: 0.6466 - val_loss: 0.7774 - val_acc: 0.6902\n",
            "Epoch 5/30\n",
            "7352/7352 [==============================] - 31s 4ms/step - loss: 0.6998 - acc: 0.6872 - val_loss: 0.7060 - val_acc: 0.7207\n",
            "Epoch 6/30\n",
            "7352/7352 [==============================] - 31s 4ms/step - loss: 0.6731 - acc: 0.7145 - val_loss: 0.9517 - val_acc: 0.6681\n",
            "Epoch 7/30\n",
            "7352/7352 [==============================] - 30s 4ms/step - loss: 0.6584 - acc: 0.7342 - val_loss: 0.7456 - val_acc: 0.7038\n",
            "Epoch 8/30\n",
            "7352/7352 [==============================] - 31s 4ms/step - loss: 0.6165 - acc: 0.7518 - val_loss: 0.5866 - val_acc: 0.7740\n",
            "Epoch 9/30\n",
            "7352/7352 [==============================] - 31s 4ms/step - loss: 0.5927 - acc: 0.7647 - val_loss: 0.5730 - val_acc: 0.7903\n",
            "Epoch 10/30\n",
            "7352/7352 [==============================] - 31s 4ms/step - loss: 0.5301 - acc: 0.8149 - val_loss: 0.5586 - val_acc: 0.8361\n",
            "Epoch 11/30\n",
            "7352/7352 [==============================] - 30s 4ms/step - loss: 0.4539 - acc: 0.8655 - val_loss: 0.9680 - val_acc: 0.7245\n",
            "Epoch 12/30\n",
            "7352/7352 [==============================] - 30s 4ms/step - loss: 0.4320 - acc: 0.8760 - val_loss: 0.4092 - val_acc: 0.8714\n",
            "Epoch 13/30\n",
            "7352/7352 [==============================] - 31s 4ms/step - loss: 0.3682 - acc: 0.8962 - val_loss: 0.3987 - val_acc: 0.8816\n",
            "Epoch 14/30\n",
            "7352/7352 [==============================] - 31s 4ms/step - loss: 0.2904 - acc: 0.9119 - val_loss: 0.3365 - val_acc: 0.8785\n",
            "Epoch 15/30\n",
            "7352/7352 [==============================] - 30s 4ms/step - loss: 0.2837 - acc: 0.9136 - val_loss: 0.3461 - val_acc: 0.8924\n",
            "Epoch 16/30\n",
            "7352/7352 [==============================] - 31s 4ms/step - loss: 0.3081 - acc: 0.9070 - val_loss: 0.3832 - val_acc: 0.8673\n",
            "Epoch 17/30\n",
            "7352/7352 [==============================] - 31s 4ms/step - loss: 0.2836 - acc: 0.9115 - val_loss: 0.3988 - val_acc: 0.8721\n",
            "Epoch 18/30\n",
            "7352/7352 [==============================] - 31s 4ms/step - loss: 0.2703 - acc: 0.9218 - val_loss: 0.5071 - val_acc: 0.8687\n",
            "Epoch 19/30\n",
            "7352/7352 [==============================] - 30s 4ms/step - loss: 0.2705 - acc: 0.9191 - val_loss: 0.3063 - val_acc: 0.8935\n",
            "Epoch 20/30\n",
            "7352/7352 [==============================] - 31s 4ms/step - loss: 0.2285 - acc: 0.9285 - val_loss: 0.3057 - val_acc: 0.9060\n",
            "Epoch 21/30\n",
            "7352/7352 [==============================] - 31s 4ms/step - loss: 0.2137 - acc: 0.9310 - val_loss: 0.4009 - val_acc: 0.8833\n",
            "Epoch 22/30\n",
            "7352/7352 [==============================] - 31s 4ms/step - loss: 0.2417 - acc: 0.9236 - val_loss: 0.3089 - val_acc: 0.9019\n",
            "Epoch 23/30\n",
            "7352/7352 [==============================] - 30s 4ms/step - loss: 0.2122 - acc: 0.9308 - val_loss: 0.2895 - val_acc: 0.9104\n",
            "Epoch 24/30\n",
            "7352/7352 [==============================] - 31s 4ms/step - loss: 0.2445 - acc: 0.9264 - val_loss: 0.3630 - val_acc: 0.8921\n",
            "Epoch 25/30\n",
            "7352/7352 [==============================] - 31s 4ms/step - loss: 0.1893 - acc: 0.9358 - val_loss: 0.3125 - val_acc: 0.9111\n",
            "Epoch 26/30\n",
            "7352/7352 [==============================] - 31s 4ms/step - loss: 0.1931 - acc: 0.9389 - val_loss: 0.4232 - val_acc: 0.8911\n",
            "Epoch 27/30\n",
            "7352/7352 [==============================] - 31s 4ms/step - loss: 0.1963 - acc: 0.9331 - val_loss: 0.2764 - val_acc: 0.9121\n",
            "Epoch 28/30\n",
            "7352/7352 [==============================] - 31s 4ms/step - loss: 0.2016 - acc: 0.9348 - val_loss: 0.2691 - val_acc: 0.9141\n",
            "Epoch 29/30\n",
            "7352/7352 [==============================] - 31s 4ms/step - loss: 0.1919 - acc: 0.9362 - val_loss: 0.3551 - val_acc: 0.9152\n",
            "Epoch 30/30\n",
            "7352/7352 [==============================] - 31s 4ms/step - loss: 0.1995 - acc: 0.9404 - val_loss: 0.3230 - val_acc: 0.9067\n",
            "*****Confusion Matrix****\n",
            " Pred                LAYING  SITTING  ...  WALKING_DOWNSTAIRS  WALKING_UPSTAIRS\n",
            "True                                 ...                                      \n",
            "LAYING                 536        0  ...                   0                 1\n",
            "SITTING                  0      401  ...                   0                 2\n",
            "STANDING                 0      100  ...                   0                 0\n",
            "WALKING                  0        0  ...                   4                10\n",
            "WALKING_DOWNSTAIRS       0        0  ...                 394                 6\n",
            "WALKING_UPSTAIRS         0        0  ...                   5               429\n",
            "\n",
            "[6 rows x 6 columns]\n",
            "2947/2947 [==============================] - 1s 340us/step\n",
            "********Score********\n",
            "  [0.32296764785136295, 0.9066847641669494]\n"
          ],
          "name": "stdout"
        }
      ]
    },
    {
      "cell_type": "code",
      "metadata": {
        "id": "Gw55zrcSsOIB",
        "colab_type": "code",
        "outputId": "54dd3e68-b1c7-4e6b-b00d-87aa252fc765",
        "colab": {
          "base_uri": "https://localhost:8080/",
          "height": 1000
        }
      },
      "source": [
        "model_one_layer(64,len(X_train[0][0]),0.55,_count_classes(Y_train),'rmsprop',X_train,Y_train,16,30,X_test,Y_test)"
      ],
      "execution_count": 0,
      "outputs": [
        {
          "output_type": "stream",
          "text": [
            "WARNING:tensorflow:Large dropout rate: 0.55 (>0.5). In TensorFlow 2.x, dropout() uses dropout rate instead of keep_prob. Please ensure that this is intended.\n",
            "Model: \"sequential_6\"\n",
            "_________________________________________________________________\n",
            "Layer (type)                 Output Shape              Param #   \n",
            "=================================================================\n",
            "lstm_6 (LSTM)                (None, 64)                18944     \n",
            "_________________________________________________________________\n",
            "dropout_6 (Dropout)          (None, 64)                0         \n",
            "_________________________________________________________________\n",
            "dense_6 (Dense)              (None, 6)                 390       \n",
            "=================================================================\n",
            "Total params: 19,334\n",
            "Trainable params: 19,334\n",
            "Non-trainable params: 0\n",
            "_________________________________________________________________\n",
            "*******Model Summary*******\n",
            "  None\n",
            "Train on 7352 samples, validate on 2947 samples\n",
            "Epoch 1/30\n",
            "7352/7352 [==============================] - 39s 5ms/step - loss: 1.2609 - acc: 0.4397 - val_loss: 1.0661 - val_acc: 0.5643\n",
            "Epoch 2/30\n",
            "7352/7352 [==============================] - 36s 5ms/step - loss: 1.0203 - acc: 0.5462 - val_loss: 1.4065 - val_acc: 0.3960\n",
            "Epoch 3/30\n",
            "7352/7352 [==============================] - 37s 5ms/step - loss: 1.0267 - acc: 0.5457 - val_loss: 1.0972 - val_acc: 0.5473\n",
            "Epoch 4/30\n",
            "7352/7352 [==============================] - 37s 5ms/step - loss: 0.7856 - acc: 0.6239 - val_loss: 0.8337 - val_acc: 0.6010\n",
            "Epoch 5/30\n",
            "7352/7352 [==============================] - 37s 5ms/step - loss: 0.7349 - acc: 0.6665 - val_loss: 1.1548 - val_acc: 0.5864\n",
            "Epoch 6/30\n",
            "7352/7352 [==============================] - 37s 5ms/step - loss: 0.6697 - acc: 0.7176 - val_loss: 0.7473 - val_acc: 0.6746\n",
            "Epoch 7/30\n",
            "7352/7352 [==============================] - 37s 5ms/step - loss: 0.6393 - acc: 0.7707 - val_loss: 0.6632 - val_acc: 0.7886\n",
            "Epoch 8/30\n",
            "7352/7352 [==============================] - 37s 5ms/step - loss: 0.4663 - acc: 0.8479 - val_loss: 0.5509 - val_acc: 0.8364\n",
            "Epoch 9/30\n",
            "7352/7352 [==============================] - 37s 5ms/step - loss: 0.3591 - acc: 0.8885 - val_loss: 0.5974 - val_acc: 0.8507\n",
            "Epoch 10/30\n",
            "7352/7352 [==============================] - 36s 5ms/step - loss: 0.3254 - acc: 0.8968 - val_loss: 0.4414 - val_acc: 0.8744\n",
            "Epoch 11/30\n",
            "7352/7352 [==============================] - 37s 5ms/step - loss: 0.2755 - acc: 0.9165 - val_loss: 0.4663 - val_acc: 0.8707\n",
            "Epoch 12/30\n",
            "7352/7352 [==============================] - 36s 5ms/step - loss: 0.2389 - acc: 0.9229 - val_loss: 0.4687 - val_acc: 0.8782\n",
            "Epoch 13/30\n",
            "7352/7352 [==============================] - 37s 5ms/step - loss: 0.2451 - acc: 0.9223 - val_loss: 0.5028 - val_acc: 0.8748\n",
            "Epoch 14/30\n",
            "7352/7352 [==============================] - 37s 5ms/step - loss: 0.2171 - acc: 0.9276 - val_loss: 0.4164 - val_acc: 0.8907\n",
            "Epoch 15/30\n",
            "7352/7352 [==============================] - 36s 5ms/step - loss: 0.1897 - acc: 0.9347 - val_loss: 0.3878 - val_acc: 0.8795\n",
            "Epoch 16/30\n",
            "7352/7352 [==============================] - 36s 5ms/step - loss: 0.1877 - acc: 0.9354 - val_loss: 0.3553 - val_acc: 0.8945\n",
            "Epoch 17/30\n",
            "7352/7352 [==============================] - 36s 5ms/step - loss: 0.1847 - acc: 0.9399 - val_loss: 0.3666 - val_acc: 0.9002\n",
            "Epoch 18/30\n",
            "7352/7352 [==============================] - 36s 5ms/step - loss: 0.1721 - acc: 0.9404 - val_loss: 0.5924 - val_acc: 0.8758\n",
            "Epoch 19/30\n",
            "7352/7352 [==============================] - 37s 5ms/step - loss: 0.1781 - acc: 0.9385 - val_loss: 0.3418 - val_acc: 0.8982\n",
            "Epoch 20/30\n",
            "7352/7352 [==============================] - 37s 5ms/step - loss: 0.1500 - acc: 0.9484 - val_loss: 0.4396 - val_acc: 0.8901\n",
            "Epoch 21/30\n",
            "7352/7352 [==============================] - 36s 5ms/step - loss: 0.1601 - acc: 0.9399 - val_loss: 0.3585 - val_acc: 0.9013\n",
            "Epoch 22/30\n",
            "7352/7352 [==============================] - 36s 5ms/step - loss: 0.1619 - acc: 0.9426 - val_loss: 0.5453 - val_acc: 0.8765\n",
            "Epoch 23/30\n",
            "7352/7352 [==============================] - 37s 5ms/step - loss: 0.1612 - acc: 0.9450 - val_loss: 0.3868 - val_acc: 0.9084\n",
            "Epoch 24/30\n",
            "7352/7352 [==============================] - 37s 5ms/step - loss: 0.1467 - acc: 0.9480 - val_loss: 0.3701 - val_acc: 0.9057\n",
            "Epoch 25/30\n",
            "7352/7352 [==============================] - 36s 5ms/step - loss: 0.1630 - acc: 0.9459 - val_loss: 0.2988 - val_acc: 0.9101\n",
            "Epoch 26/30\n",
            "7352/7352 [==============================] - 37s 5ms/step - loss: 0.1491 - acc: 0.9501 - val_loss: 0.3015 - val_acc: 0.9158\n",
            "Epoch 27/30\n",
            "7352/7352 [==============================] - 36s 5ms/step - loss: 0.1348 - acc: 0.9510 - val_loss: 0.4094 - val_acc: 0.9104\n",
            "Epoch 28/30\n",
            "7352/7352 [==============================] - 37s 5ms/step - loss: 0.1639 - acc: 0.9450 - val_loss: 0.3736 - val_acc: 0.9094\n",
            "Epoch 29/30\n",
            "7352/7352 [==============================] - 36s 5ms/step - loss: 0.1369 - acc: 0.9498 - val_loss: 0.5084 - val_acc: 0.8846\n",
            "Epoch 30/30\n",
            "7352/7352 [==============================] - 36s 5ms/step - loss: 0.1598 - acc: 0.9476 - val_loss: 0.3764 - val_acc: 0.9111\n",
            "*****Confusion Matrix****\n",
            " Pred                LAYING  SITTING  ...  WALKING_DOWNSTAIRS  WALKING_UPSTAIRS\n",
            "True                                 ...                                      \n",
            "LAYING                 531        1  ...                   0                 1\n",
            "SITTING                  3      370  ...                   0                 0\n",
            "STANDING                 0       65  ...                   0                 0\n",
            "WALKING                  0        0  ...                  12                 2\n",
            "WALKING_DOWNSTAIRS       0        0  ...                 390                27\n",
            "WALKING_UPSTAIRS         0        5  ...                   6               447\n",
            "\n",
            "[6 rows x 6 columns]\n",
            "2947/2947 [==============================] - 1s 486us/step\n",
            "********Score********\n",
            "  [0.3763564185935234, 0.9110960298608755]\n"
          ],
          "name": "stdout"
        }
      ]
    },
    {
      "cell_type": "code",
      "metadata": {
        "id": "DFkkxPqBwDWQ",
        "colab_type": "code",
        "outputId": "36318e6a-10da-4373-8344-745ac7c8b508",
        "colab": {
          "base_uri": "https://localhost:8080/",
          "height": 1000
        }
      },
      "source": [
        "model_one_layer(64,len(X_train[0][0]),0.60,_count_classes(Y_train),'rmsprop',X_train,Y_train,16,30,X_test,Y_test)"
      ],
      "execution_count": 0,
      "outputs": [
        {
          "output_type": "stream",
          "text": [
            "WARNING:tensorflow:Large dropout rate: 0.6 (>0.5). In TensorFlow 2.x, dropout() uses dropout rate instead of keep_prob. Please ensure that this is intended.\n",
            "Model: \"sequential_7\"\n",
            "_________________________________________________________________\n",
            "Layer (type)                 Output Shape              Param #   \n",
            "=================================================================\n",
            "lstm_7 (LSTM)                (None, 64)                18944     \n",
            "_________________________________________________________________\n",
            "dropout_7 (Dropout)          (None, 64)                0         \n",
            "_________________________________________________________________\n",
            "dense_7 (Dense)              (None, 6)                 390       \n",
            "=================================================================\n",
            "Total params: 19,334\n",
            "Trainable params: 19,334\n",
            "Non-trainable params: 0\n",
            "_________________________________________________________________\n",
            "*******Model Summary*******\n",
            "  None\n",
            "Train on 7352 samples, validate on 2947 samples\n",
            "Epoch 1/30\n",
            "7352/7352 [==============================] - 39s 5ms/step - loss: 1.2493 - acc: 0.4612 - val_loss: 1.0575 - val_acc: 0.5334\n",
            "Epoch 2/30\n",
            "7352/7352 [==============================] - 36s 5ms/step - loss: 0.9454 - acc: 0.5793 - val_loss: 0.8372 - val_acc: 0.5772\n",
            "Epoch 3/30\n",
            "7352/7352 [==============================] - 37s 5ms/step - loss: 0.8000 - acc: 0.6469 - val_loss: 0.8746 - val_acc: 0.6875\n",
            "Epoch 4/30\n",
            "7352/7352 [==============================] - 37s 5ms/step - loss: 0.7374 - acc: 0.6978 - val_loss: 0.8985 - val_acc: 0.6216\n",
            "Epoch 5/30\n",
            "7352/7352 [==============================] - 37s 5ms/step - loss: 0.7579 - acc: 0.6668 - val_loss: 0.7621 - val_acc: 0.6603\n",
            "Epoch 6/30\n",
            "7352/7352 [==============================] - 37s 5ms/step - loss: 0.6034 - acc: 0.7674 - val_loss: 0.7273 - val_acc: 0.7363\n",
            "Epoch 7/30\n",
            "7352/7352 [==============================] - 37s 5ms/step - loss: 0.4769 - acc: 0.8337 - val_loss: 0.6563 - val_acc: 0.7937\n",
            "Epoch 8/30\n",
            "7352/7352 [==============================] - 37s 5ms/step - loss: 0.3622 - acc: 0.8811 - val_loss: 0.6153 - val_acc: 0.8107\n",
            "Epoch 9/30\n",
            "7352/7352 [==============================] - 36s 5ms/step - loss: 0.2975 - acc: 0.9090 - val_loss: 0.4358 - val_acc: 0.8690\n",
            "Epoch 10/30\n",
            "7352/7352 [==============================] - 36s 5ms/step - loss: 0.2545 - acc: 0.9199 - val_loss: 0.3119 - val_acc: 0.8951\n",
            "Epoch 11/30\n",
            "7352/7352 [==============================] - 36s 5ms/step - loss: 0.2236 - acc: 0.9256 - val_loss: 0.4430 - val_acc: 0.8633\n",
            "Epoch 12/30\n",
            "7352/7352 [==============================] - 37s 5ms/step - loss: 0.2097 - acc: 0.9279 - val_loss: 0.3127 - val_acc: 0.8962\n",
            "Epoch 13/30\n",
            "7352/7352 [==============================] - 37s 5ms/step - loss: 0.2108 - acc: 0.9335 - val_loss: 0.3795 - val_acc: 0.8982\n",
            "Epoch 14/30\n",
            "7352/7352 [==============================] - 36s 5ms/step - loss: 0.2197 - acc: 0.9320 - val_loss: 0.2471 - val_acc: 0.9033\n",
            "Epoch 15/30\n",
            "7352/7352 [==============================] - 36s 5ms/step - loss: 0.1751 - acc: 0.9382 - val_loss: 0.4672 - val_acc: 0.8809\n",
            "Epoch 16/30\n",
            "7352/7352 [==============================] - 37s 5ms/step - loss: 0.2420 - acc: 0.9286 - val_loss: 0.4646 - val_acc: 0.8914\n",
            "Epoch 17/30\n",
            "7352/7352 [==============================] - 37s 5ms/step - loss: 0.2074 - acc: 0.9339 - val_loss: 0.3989 - val_acc: 0.8945\n",
            "Epoch 18/30\n",
            "7352/7352 [==============================] - 37s 5ms/step - loss: 0.1980 - acc: 0.9320 - val_loss: 0.4348 - val_acc: 0.8948\n",
            "Epoch 19/30\n",
            "7352/7352 [==============================] - 37s 5ms/step - loss: 0.2020 - acc: 0.9389 - val_loss: 0.7770 - val_acc: 0.8290\n",
            "Epoch 20/30\n",
            "7352/7352 [==============================] - 37s 5ms/step - loss: 0.2687 - acc: 0.9204 - val_loss: 0.3833 - val_acc: 0.9019\n",
            "Epoch 21/30\n",
            "7352/7352 [==============================] - 36s 5ms/step - loss: 0.1762 - acc: 0.9414 - val_loss: 0.4369 - val_acc: 0.9030\n",
            "Epoch 22/30\n",
            "7352/7352 [==============================] - 36s 5ms/step - loss: 0.1704 - acc: 0.9408 - val_loss: 0.3680 - val_acc: 0.9006\n",
            "Epoch 23/30\n",
            "7352/7352 [==============================] - 37s 5ms/step - loss: 0.1608 - acc: 0.9444 - val_loss: 0.3901 - val_acc: 0.9036\n",
            "Epoch 24/30\n",
            "7352/7352 [==============================] - 36s 5ms/step - loss: 0.1522 - acc: 0.9471 - val_loss: 0.5118 - val_acc: 0.9019\n",
            "Epoch 25/30\n",
            "7352/7352 [==============================] - 37s 5ms/step - loss: 0.1891 - acc: 0.9391 - val_loss: 0.4171 - val_acc: 0.9114\n",
            "Epoch 26/30\n",
            "7352/7352 [==============================] - 37s 5ms/step - loss: 0.1592 - acc: 0.9410 - val_loss: 0.3141 - val_acc: 0.9165\n",
            "Epoch 27/30\n",
            "7352/7352 [==============================] - 37s 5ms/step - loss: 0.1601 - acc: 0.9445 - val_loss: 0.4779 - val_acc: 0.9040\n",
            "Epoch 28/30\n",
            "7352/7352 [==============================] - 37s 5ms/step - loss: 0.1597 - acc: 0.9474 - val_loss: 0.6699 - val_acc: 0.8863\n",
            "Epoch 29/30\n",
            "7352/7352 [==============================] - 37s 5ms/step - loss: 0.1510 - acc: 0.9467 - val_loss: 0.4109 - val_acc: 0.9141\n",
            "Epoch 30/30\n",
            "7352/7352 [==============================] - 37s 5ms/step - loss: 0.1435 - acc: 0.9514 - val_loss: 0.3308 - val_acc: 0.9165\n",
            "*****Confusion Matrix****\n",
            " Pred                LAYING  SITTING  ...  WALKING_DOWNSTAIRS  WALKING_UPSTAIRS\n",
            "True                                 ...                                      \n",
            "LAYING                 510        0  ...                   0                 1\n",
            "SITTING                  0      417  ...                   0                 2\n",
            "STANDING                 0      103  ...                   0                 0\n",
            "WALKING                  0        0  ...                   1                15\n",
            "WALKING_DOWNSTAIRS       0        0  ...                 405                12\n",
            "WALKING_UPSTAIRS         0        3  ...                   0               460\n",
            "\n",
            "[6 rows x 6 columns]\n",
            "2947/2947 [==============================] - 1s 468us/step\n",
            "********Score********\n",
            "  [0.3308093568346165, 0.9165252799457075]\n"
          ],
          "name": "stdout"
        }
      ]
    },
    {
      "cell_type": "code",
      "metadata": {
        "id": "jK-gy6mF1QLT",
        "colab_type": "code",
        "colab": {}
      },
      "source": [
        ""
      ],
      "execution_count": 0,
      "outputs": []
    },
    {
      "cell_type": "markdown",
      "metadata": {
        "id": "wJZ-sbKF1Twq",
        "colab_type": "text"
      },
      "source": [
        "Defining a 2 layer LSTM and larger drop out rate"
      ]
    },
    {
      "cell_type": "code",
      "metadata": {
        "id": "m2iR4Tro1bm2",
        "colab_type": "code",
        "colab": {}
      },
      "source": [
        "def model_two_layer(n_hidden,input_dim,dropOutValue,n_classes,optimizer,X_train,Y_train,batch_size,epochs,X_test,Y_test):\n",
        "\n",
        "  # Initiliazing the sequential model\n",
        "  model = Sequential()\n",
        "  # Configuring the parameters\n",
        "  model.add(LSTM(n_hidden,return_sequences=True, input_shape=(timesteps, input_dim)))\n",
        "  # Adding a dropout layer\n",
        "  model.add(Dropout(dropOutValue))\n",
        "  #Adding 2nd layer LSTM\n",
        "  model.add(LSTM(n_hidden))\n",
        "   # Adding a dropout layer\n",
        "  model.add(Dropout(dropOutValue))\n",
        "  # Adding a dense output layer with sigmoid activation\n",
        "  model.add(Dense(n_classes, activation='sigmoid'))\n",
        "  print('\\n*******Model Summary*******\\n ' ,model.summary())\n",
        "\n",
        "  # Compiling the model\n",
        "  model.compile(loss='categorical_crossentropy',\n",
        "                optimizer=optimizer,\n",
        "                metrics=['accuracy'])\n",
        "\n",
        "  # Training the model\n",
        "  histo = model.fit(X_train,\n",
        "            Y_train,\n",
        "            batch_size=batch_size,\n",
        "            validation_data=(X_test, Y_test),\n",
        "            epochs=epochs)\n",
        "\n",
        "    # Confusion Matrix\n",
        "  print('\\n**********************Confusion Matrix********************\\n')\n",
        "  confusion_matrix(Y_test, model.predict(X_test))\n",
        "  confusionMatx = confusion_matrix(Y_test, model.predict(X_test))\n",
        "  labels = [\"WALKING\", \"WALKING_UPSTAIRS\", \"WALKING_DOWNSTAIRS\", \"SITTING\", \"STANDING\", \"LYING\"]\n",
        "      \n",
        "  plt.figure(figsize=(16,7))\n",
        "  sns.heatmap(confusionMatx, cmap = \"Blues\", annot = True, fmt = \".1f\", xticklabels=labels, yticklabels=labels)\n",
        "  plt.title(\"Confusion Matrix\", fontsize = 30)\n",
        "  plt.xlabel('Predicted Class', fontsize = 20)\n",
        "  plt.ylabel('Original Class', fontsize = 20)\n",
        "  plt.tick_params(labelsize = 15)\n",
        "  plt.xticks(rotation = 90)\n",
        "  plt.show()\n",
        "  #score\n",
        "\n",
        "  print('\\n*******************Train Score********************\\n ')\n",
        "  print('\\nTrain loss : ',histo.history['loss'])\n",
        "  print('\\nTrain Accuracy : ',histo.history['accuracy'])\n",
        "  print('\\n*******************Test Score***************************\\n ',model.evaluate(X_test, Y_test))\n",
        "  return"
      ],
      "execution_count": 0,
      "outputs": []
    },
    {
      "cell_type": "code",
      "metadata": {
        "id": "WWVF7qG48BDU",
        "colab_type": "code",
        "outputId": "4ea64e4b-80d9-412a-c2ff-c775c16f065a",
        "colab": {
          "base_uri": "https://localhost:8080/",
          "height": 1000
        }
      },
      "source": [
        "model_two_layer(32,len(X_train[0][0]),0.55,_count_classes(Y_train),'rmsprop',X_train,Y_train,16,30,X_test,Y_test)"
      ],
      "execution_count": 0,
      "outputs": [
        {
          "output_type": "stream",
          "text": [
            "Model: \"sequential_9\"\n",
            "_________________________________________________________________\n",
            "Layer (type)                 Output Shape              Param #   \n",
            "=================================================================\n",
            "lstm_10 (LSTM)               (None, 128, 32)           5376      \n",
            "_________________________________________________________________\n",
            "dropout_9 (Dropout)          (None, 128, 32)           0         \n",
            "_________________________________________________________________\n",
            "lstm_11 (LSTM)               (None, 32)                8320      \n",
            "_________________________________________________________________\n",
            "dropout_10 (Dropout)         (None, 32)                0         \n",
            "_________________________________________________________________\n",
            "dense_8 (Dense)              (None, 6)                 198       \n",
            "=================================================================\n",
            "Total params: 13,894\n",
            "Trainable params: 13,894\n",
            "Non-trainable params: 0\n",
            "_________________________________________________________________\n",
            "\n",
            "*******Model Summary*******\n",
            "  None\n",
            "Train on 7352 samples, validate on 2947 samples\n",
            "Epoch 1/30\n",
            "7352/7352 [==============================] - 66s 9ms/step - loss: 1.1641 - acc: 0.5256 - val_loss: 0.8698 - val_acc: 0.5864\n",
            "Epoch 2/30\n",
            "7352/7352 [==============================] - 63s 9ms/step - loss: 0.7756 - acc: 0.6483 - val_loss: 0.7588 - val_acc: 0.6237\n",
            "Epoch 3/30\n",
            "7352/7352 [==============================] - 63s 9ms/step - loss: 0.6652 - acc: 0.7031 - val_loss: 0.5966 - val_acc: 0.7336\n",
            "Epoch 4/30\n",
            "7352/7352 [==============================] - 64s 9ms/step - loss: 0.5582 - acc: 0.7594 - val_loss: 0.5976 - val_acc: 0.7133\n",
            "Epoch 5/30\n",
            "7352/7352 [==============================] - 64s 9ms/step - loss: 0.4795 - acc: 0.7828 - val_loss: 0.5462 - val_acc: 0.7628\n",
            "Epoch 6/30\n",
            "7352/7352 [==============================] - 65s 9ms/step - loss: 0.4358 - acc: 0.7875 - val_loss: 0.4894 - val_acc: 0.7611\n",
            "Epoch 7/30\n",
            "7352/7352 [==============================] - 64s 9ms/step - loss: 0.4279 - acc: 0.7988 - val_loss: 0.5028 - val_acc: 0.7553\n",
            "Epoch 8/30\n",
            "7352/7352 [==============================] - 64s 9ms/step - loss: 0.4111 - acc: 0.8060 - val_loss: 0.4632 - val_acc: 0.7723\n",
            "Epoch 9/30\n",
            "7352/7352 [==============================] - 63s 9ms/step - loss: 0.4033 - acc: 0.8414 - val_loss: 0.4377 - val_acc: 0.8670\n",
            "Epoch 10/30\n",
            "7352/7352 [==============================] - 64s 9ms/step - loss: 0.3186 - acc: 0.9021 - val_loss: 0.4191 - val_acc: 0.8595\n",
            "Epoch 11/30\n",
            "7352/7352 [==============================] - 64s 9ms/step - loss: 0.2709 - acc: 0.9210 - val_loss: 0.5698 - val_acc: 0.8409\n",
            "Epoch 12/30\n",
            "7352/7352 [==============================] - 63s 9ms/step - loss: 0.2381 - acc: 0.9261 - val_loss: 0.3319 - val_acc: 0.8962\n",
            "Epoch 13/30\n",
            "7352/7352 [==============================] - 63s 9ms/step - loss: 0.2167 - acc: 0.9362 - val_loss: 0.4330 - val_acc: 0.8833\n",
            "Epoch 14/30\n",
            "7352/7352 [==============================] - 63s 9ms/step - loss: 0.1977 - acc: 0.9351 - val_loss: 0.4087 - val_acc: 0.8873\n",
            "Epoch 15/30\n",
            "7352/7352 [==============================] - 64s 9ms/step - loss: 0.1989 - acc: 0.9378 - val_loss: 0.3773 - val_acc: 0.8890\n",
            "Epoch 16/30\n",
            "7352/7352 [==============================] - 64s 9ms/step - loss: 0.1831 - acc: 0.9422 - val_loss: 0.4153 - val_acc: 0.9019\n",
            "Epoch 17/30\n",
            "7352/7352 [==============================] - 64s 9ms/step - loss: 0.1815 - acc: 0.9404 - val_loss: 0.4025 - val_acc: 0.9026\n",
            "Epoch 18/30\n",
            "7352/7352 [==============================] - 63s 9ms/step - loss: 0.1835 - acc: 0.9427 - val_loss: 0.3772 - val_acc: 0.8975\n",
            "Epoch 19/30\n",
            "7352/7352 [==============================] - 64s 9ms/step - loss: 0.1614 - acc: 0.9474 - val_loss: 0.3957 - val_acc: 0.9009\n",
            "Epoch 20/30\n",
            "7352/7352 [==============================] - 63s 9ms/step - loss: 0.1567 - acc: 0.9479 - val_loss: 0.4198 - val_acc: 0.9016\n",
            "Epoch 21/30\n",
            "7352/7352 [==============================] - 63s 9ms/step - loss: 0.1661 - acc: 0.9431 - val_loss: 0.4489 - val_acc: 0.8989\n",
            "Epoch 22/30\n",
            "7352/7352 [==============================] - 63s 9ms/step - loss: 0.1731 - acc: 0.9440 - val_loss: 0.4902 - val_acc: 0.8914\n",
            "Epoch 23/30\n",
            "7352/7352 [==============================] - 63s 9ms/step - loss: 0.1749 - acc: 0.9460 - val_loss: 0.4159 - val_acc: 0.9097\n",
            "Epoch 24/30\n",
            "7352/7352 [==============================] - 63s 9ms/step - loss: 0.1485 - acc: 0.9476 - val_loss: 0.3771 - val_acc: 0.8992\n",
            "Epoch 25/30\n",
            "7352/7352 [==============================] - 63s 9ms/step - loss: 0.1722 - acc: 0.9475 - val_loss: 0.3841 - val_acc: 0.8962\n",
            "Epoch 26/30\n",
            "7352/7352 [==============================] - 63s 9ms/step - loss: 0.1596 - acc: 0.9463 - val_loss: 0.4427 - val_acc: 0.8992\n",
            "Epoch 27/30\n",
            "7352/7352 [==============================] - 63s 9ms/step - loss: 0.1497 - acc: 0.9494 - val_loss: 0.4391 - val_acc: 0.8982\n",
            "Epoch 28/30\n",
            "7352/7352 [==============================] - 64s 9ms/step - loss: 0.1429 - acc: 0.9512 - val_loss: 0.4432 - val_acc: 0.9016\n",
            "Epoch 29/30\n",
            "7352/7352 [==============================] - 64s 9ms/step - loss: 0.1847 - acc: 0.9407 - val_loss: 0.4907 - val_acc: 0.9009\n",
            "Epoch 30/30\n",
            "7352/7352 [==============================] - 63s 9ms/step - loss: 0.1754 - acc: 0.9474 - val_loss: 0.4915 - val_acc: 0.8873\n",
            "\n",
            "**********************Confusion Matrix********************\n",
            "\n"
          ],
          "name": "stdout"
        },
        {
          "output_type": "display_data",
          "data": {
            "image/png": "[encoded data removed]",
            "text/plain": [
              "<Figure size 1152x504 with 2 Axes>"
            ]
          },
          "metadata": {
            "tags": []
          }
        },
        {
          "output_type": "stream",
          "text": [
            "\n",
            "*******************Train Score********************\n",
            " \n",
            "\n",
            "Train loss :  [1.1640531767698834, 0.775613136013911, 0.6651562674779757, 0.558171850877436, 0.47945814060049297, 0.43578528192084814, 0.4279303532722077, 0.4111309844404621, 0.40330144088468045, 0.3185965495429309, 0.27094181746212004, 0.23812793515788816, 0.21668022466059347, 0.19766557167189944, 0.1989484473488317, 0.18306765660959762, 0.18151874709428492, 0.18349276477485182, 0.1613687624743409, 0.15674153916027003, 0.16610350995197876, 0.1731151203301627, 0.17487208519214045, 0.14851875444600546, 0.17218875738572212, 0.1595686540525443, 0.1497329231721508, 0.14291946525595295, 0.18472121180449658, 0.17542162307530998]\n"
          ],
          "name": "stdout"
        },
        {
          "output_type": "error",
          "ename": "KeyError",
          "evalue": "ignored",
          "traceback": [
            "\u001b[0;31m---------------------------------------------------------------------------\u001b[0m",
            "\u001b[0;31mKeyError\u001b[0m                                  Traceback (most recent call last)",
            "\u001b[0;32m<ipython-input-42-dc49ac628c4c>\u001b[0m in \u001b[0;36m<module>\u001b[0;34m()\u001b[0m\n\u001b[0;32m----> 1\u001b[0;31m \u001b[0mmodel_two_layer\u001b[0m\u001b[0;34m(\u001b[0m\u001b[0;36m32\u001b[0m\u001b[0;34m,\u001b[0m\u001b[0mlen\u001b[0m\u001b[0;34m(\u001b[0m\u001b[0mX_train\u001b[0m\u001b[0;34m[\u001b[0m\u001b[0;36m0\u001b[0m\u001b[0;34m]\u001b[0m\u001b[0;34m[\u001b[0m\u001b[0;36m0\u001b[0m\u001b[0;34m]\u001b[0m\u001b[0;34m)\u001b[0m\u001b[0;34m,\u001b[0m\u001b[0;36m0.55\u001b[0m\u001b[0;34m,\u001b[0m\u001b[0m_count_classes\u001b[0m\u001b[0;34m(\u001b[0m\u001b[0mY_train\u001b[0m\u001b[0;34m)\u001b[0m\u001b[0;34m,\u001b[0m\u001b[0;34m'rmsprop'\u001b[0m\u001b[0;34m,\u001b[0m\u001b[0mX_train\u001b[0m\u001b[0;34m,\u001b[0m\u001b[0mY_train\u001b[0m\u001b[0;34m,\u001b[0m\u001b[0;36m16\u001b[0m\u001b[0;34m,\u001b[0m\u001b[0;36m30\u001b[0m\u001b[0;34m,\u001b[0m\u001b[0mX_test\u001b[0m\u001b[0;34m,\u001b[0m\u001b[0mY_test\u001b[0m\u001b[0;34m)\u001b[0m\u001b[0;34m\u001b[0m\u001b[0;34m\u001b[0m\u001b[0m\n\u001b[0m",
            "\u001b[0;32m<ipython-input-41-fa48230d294f>\u001b[0m in \u001b[0;36mmodel_two_layer\u001b[0;34m(n_hidden, input_dim, dropOutValue, n_classes, optimizer, X_train, Y_train, batch_size, epochs, X_test, Y_test)\u001b[0m\n\u001b[1;32m     45\u001b[0m   \u001b[0mprint\u001b[0m\u001b[0;34m(\u001b[0m\u001b[0;34m'\\n*******************Train Score********************\\n '\u001b[0m\u001b[0;34m)\u001b[0m\u001b[0;34m\u001b[0m\u001b[0;34m\u001b[0m\u001b[0m\n\u001b[1;32m     46\u001b[0m   \u001b[0mprint\u001b[0m\u001b[0;34m(\u001b[0m\u001b[0;34m'\\nTrain loss : '\u001b[0m\u001b[0;34m,\u001b[0m\u001b[0mhisto\u001b[0m\u001b[0;34m.\u001b[0m\u001b[0mhistory\u001b[0m\u001b[0;34m[\u001b[0m\u001b[0;34m'loss'\u001b[0m\u001b[0;34m]\u001b[0m\u001b[0;34m)\u001b[0m\u001b[0;34m\u001b[0m\u001b[0;34m\u001b[0m\u001b[0m\n\u001b[0;32m---> 47\u001b[0;31m   \u001b[0mprint\u001b[0m\u001b[0;34m(\u001b[0m\u001b[0;34m'\\nTrain Accuracy : '\u001b[0m\u001b[0;34m,\u001b[0m\u001b[0mhisto\u001b[0m\u001b[0;34m.\u001b[0m\u001b[0mhistory\u001b[0m\u001b[0;34m[\u001b[0m\u001b[0;34m'accuracy'\u001b[0m\u001b[0;34m]\u001b[0m\u001b[0;34m)\u001b[0m\u001b[0;34m\u001b[0m\u001b[0;34m\u001b[0m\u001b[0m\n\u001b[0m\u001b[1;32m     48\u001b[0m   \u001b[0mprint\u001b[0m\u001b[0;34m(\u001b[0m\u001b[0;34m'\\n*******************Test Score***************************\\n '\u001b[0m\u001b[0;34m,\u001b[0m\u001b[0mmodel\u001b[0m\u001b[0;34m.\u001b[0m\u001b[0mevaluate\u001b[0m\u001b[0;34m(\u001b[0m\u001b[0mX_test\u001b[0m\u001b[0;34m,\u001b[0m \u001b[0mY_test\u001b[0m\u001b[0;34m)\u001b[0m\u001b[0;34m)\u001b[0m\u001b[0;34m\u001b[0m\u001b[0;34m\u001b[0m\u001b[0m\n\u001b[1;32m     49\u001b[0m   \u001b[0;32mreturn\u001b[0m\u001b[0;34m\u001b[0m\u001b[0;34m\u001b[0m\u001b[0m\n",
            "\u001b[0;31mKeyError\u001b[0m: 'accuracy'"
          ]
        }
      ]
    },
    {
      "cell_type": "code",
      "metadata": {
        "id": "0kZaEZsS8EjF",
        "colab_type": "code",
        "colab": {}
      },
      "source": [
        ""
      ],
      "execution_count": 0,
      "outputs": []
    }
  ]
}